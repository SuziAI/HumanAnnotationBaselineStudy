{
 "cells": [
  {
   "cell_type": "code",
   "execution_count": 1,
   "id": "e0feefd8-ae2d-444d-b3da-f0f61cc5c860",
   "metadata": {},
   "outputs": [],
   "source": [
    "import json"
   ]
  },
  {
   "cell_type": "code",
   "execution_count": 16,
   "id": "ad1d9837-5916-4038-99ef-10e143695971",
   "metadata": {},
   "outputs": [
    {
     "name": "stdout",
     "output_type": "stream",
     "text": [
      "66\n"
     ]
    }
   ],
   "source": [
    "PITCH_DICT = {\n",
    "    0: \"HE\",\n",
    "    1: \"SI\",\n",
    "    2: \"YI\",\n",
    "    3: \"SHANG\",\n",
    "    4: \"GOU\",\n",
    "    5: \"CHE\",\n",
    "    6: \"GONG\",\n",
    "    7: \"FAN\",\n",
    "    8: \"LIU\",\n",
    "    9: \"WU\",\n",
    "    10: \"GAO_WU\",\n",
    "}\n",
    "SECONDARY_DICT = {0: None, 1: \"DA_DUN\", 2: \"XIAO_ZHU\", 3: \"DING_ZHU\", 4: \"DA_ZHU\", 5: \"ZHE\", 6: \"YE\"}\n",
    "\n",
    "\n",
    "class_to_annotation_dict = {}\n",
    "idx = 0\n",
    "for secondary in SECONDARY_DICT.keys():\n",
    "    for pitch in PITCH_DICT.keys():\n",
    "        class_to_annotation_dict[idx] = f\"{PITCH_DICT[pitch]}, {SECONDARY_DICT[secondary]}\"\n",
    "        idx += 1\n",
    "\n",
    "class_to_subclasses_dict = {}\n",
    "idx = 0\n",
    "for secondary in SECONDARY_DICT.keys():\n",
    "    for pitch in PITCH_DICT.keys():\n",
    "        class_to_subclasses_dict[idx] = (pitch, secondary)\n",
    "        idx += 1\n",
    "\n",
    "\n",
    "def _class_to_annotation(class_idx):\n",
    "    return class_to_annotation_dict[class_idx]\n",
    "\n",
    "\n",
    "def _annotation_to_class(annotation):\n",
    "    for key in class_to_annotation_dict.keys():\n",
    "        if class_to_annotation_dict[key] == annotation:\n",
    "            return key\n",
    "    raise Exception(\"Invalid annotation\", annotation)\n",
    "\n",
    "\n",
    "def properties_to_class(pitch, secondary):\n",
    "    return _annotation_to_class(f\"{pitch}, {secondary}\")\n",
    "\n",
    "\n",
    "def class_to_subclasses(class_idx):\n",
    "    return class_to_subclasses_dict[class_idx]\n",
    "\n",
    "\n",
    "def individual_labels_to_class(pitch, secondary):\n",
    "    return properties_to_class(PITCH_DICT[int(pitch)], SECONDARY_DICT[int(secondary)])"
   ]
  },
  {
   "cell_type": "code",
   "execution_count": 49,
   "id": "ea6527e4-63ff-4bfb-ae4d-7a6157a9a780",
   "metadata": {},
   "outputs": [
    {
     "name": "stdout",
     "output_type": "stream",
     "text": [
      "719 720\n",
      "[84, 81, 60, 59, 57, 53, 39, 34, 21, 15, 14, 14, 11, 11, 10, 10, 9, 9, 8, 8, 8, 7, 7, 6, 5, 5, 4, 5, 4, 5, 4, 4, 4, 4, 4, 4, 3, 3, 3, 3, 2, 2, 2, 2, 1, 2, 1, 1, 1, 1, 1, 1, 1, 1, 1]\n",
      "[84, 81, 60, 59, 57, 52, 40, 33, 22, 15, 14, 14, 11, 10, 10, 10, 10, 9, 9, 8, 7, 7, 7, 5, 6, 5, 5, 4, 5, 4, 5, 4, 4, 4, 3, 3, 3, 3, 3, 3, 3, 2, 2, 2, 2, 1, 2, 1, 1, 1, 1, 1, 1, 1, 1]\n",
      "1439 1439\n",
      "[{'image_path': 'images/shanghai_manuscript_035_030_geximeiling_18.png', 'type': 'Music', 'notation_type': 'Suzipu', 'annotation': {'pitch': 'SHANG', 'secondary': 'XIAO_ZHU'}, 'edition': 'shanghai', 'filename': '030_geximeiling.json', 'text_annotation': '好', 'IDX': 668, 'group': 1}, {'image_path': 'images/shanghai_manuscript_035_030_geximeiling_19.png', 'type': 'Music', 'notation_type': 'Suzipu', 'annotation': {'pitch': 'GONG', 'secondary': None}, 'edition': 'shanghai', 'filename': '030_geximeiling.json', 'text_annotation': '花', 'IDX': 84, 'group': 1}, {'image_path': 'images/shanghai_manuscript_035_030_geximeiling_20.png', 'type': 'Music', 'notation_type': 'Suzipu', 'annotation': {'pitch': 'CHE', 'secondary': None}, 'edition': 'shanghai', 'filename': '030_geximeiling.json', 'text_annotation': '不', 'IDX': 0, 'group': 0}, {'image_path': 'images/shanghai_manuscript_035_030_geximeiling_21.png', 'type': 'Music', 'notation_type': 'Suzipu', 'annotation': {'pitch': 'SHANG', 'secondary': 'DING_ZHU'}, 'edition': 'shanghai', 'filename': '030_geximeiling.json', 'text_annotation': '與', 'IDX': 531, 'group': 0}, {'image_path': 'images/shanghai_manuscript_035_030_geximeiling_22.png', 'type': 'Music', 'notation_type': 'Suzipu', 'annotation': {'pitch': 'HE', 'secondary': None}, 'edition': 'shanghai', 'filename': '030_geximeiling.json', 'text_annotation': '殢', 'IDX': 394, 'group': 0}, {'image_path': 'images/shanghai_manuscript_035_030_geximeiling_23.png', 'type': 'Music', 'notation_type': 'Suzipu', 'annotation': {'pitch': 'YI', 'secondary': None}, 'edition': 'shanghai', 'filename': '030_geximeiling.json', 'text_annotation': '香', 'IDX': 284, 'group': 0}, {'image_path': 'images/shanghai_manuscript_035_030_geximeiling_24.png', 'type': 'Music', 'notation_type': 'Suzipu', 'annotation': {'pitch': 'SHANG', 'secondary': 'XIAO_ZHU'}, 'edition': 'shanghai', 'filename': '030_geximeiling.json', 'text_annotation': '人', 'IDX': 669, 'group': 1}, {'image_path': 'images/shanghai_manuscript_035_030_geximeiling_25.png', 'type': 'Music', 'notation_type': 'Suzipu', 'annotation': {'pitch': 'LIU', 'secondary': 'XIAO_ZHU'}, 'edition': 'shanghai', 'filename': '030_geximeiling.json', 'text_annotation': '浪', 'IDX': 645, 'group': 0}, {'image_path': 'images/shanghai_manuscript_035_030_geximeiling_26.png', 'type': 'Music', 'notation_type': 'Suzipu', 'annotation': {'pitch': 'WU', 'secondary': None}, 'edition': 'shanghai', 'filename': '030_geximeiling.json', 'text_annotation': '粼', 'IDX': 467, 'group': 0}, {'image_path': 'images/shanghai_manuscript_035_030_geximeiling_27.png', 'type': 'Music', 'notation_type': 'Suzipu', 'annotation': {'pitch': 'LIU', 'secondary': 'XIAO_ZHU'}, 'edition': 'shanghai', 'filename': '030_geximeiling.json', 'text_annotation': '粼', 'IDX': 646, 'group': 0}]\n"
     ]
    }
   ],
   "source": [
    "def partition_by_annotation(l):\n",
    "    per_annotation = {}\n",
    "    for element_idx, element in enumerate(l):\n",
    "        class_idx = properties_to_class(element[\"annotation\"][\"pitch\"], element[\"annotation\"][\"secondary\"])\n",
    "        element[\"IDX\"] = element_idx\n",
    "        if class_idx not in per_annotation:\n",
    "            per_annotation[class_idx] = []\n",
    "        per_annotation[class_idx].append(element)\n",
    "    return per_annotation\n",
    "\n",
    "\n",
    "with open(\"dataset.json\") as json_file:\n",
    "    f = json.load(json_file)\n",
    "\n",
    "per_annotation = partition_by_annotation(f)\n",
    "\n",
    "samples = per_annotation.values()\n",
    "samples = sorted(samples, key=lambda x: len(x), reverse=True)\n",
    "\n",
    "samples_1 = []\n",
    "samples_2 = []\n",
    "\n",
    "for idx, s in enumerate(samples):\n",
    "    half1 = s[: len(s) // 2]\n",
    "    half2 = s[len(s) // 2 :]\n",
    "    if len(half1) > 1 and idx % 2:\n",
    "        half1, half2 = half2, half1\n",
    "    else:\n",
    "        if len([item for row in samples_1 for item in row]) < len([item for row in samples_2 for item in row]):\n",
    "            half2, half1 = half1, half2\n",
    "\n",
    "    samples_1.append(half1)\n",
    "    samples_2.append(half2)\n",
    "\n",
    "samples_1 = [item for row in samples_1 for item in row]\n",
    "samples_2 = [item for row in samples_2 for item in row]\n",
    "\n",
    "print(len(samples_1), len(samples_2))\n",
    "\n",
    "for group, l in enumerate((samples_1, samples_2)):\n",
    "    for idx in range(len(l)):\n",
    "        l[idx][\"group\"] = group\n",
    "\n",
    "all_samples = samples_1 + samples_2\n",
    "\n",
    "all_samples = sorted(all_samples, key=lambda x: x[\"IDX\"])\n",
    "\n",
    "print([len(l) for l in partition_by_annotation(samples_1).values()])\n",
    "print([len(l) for l in partition_by_annotation(samples_2).values()])\n",
    "\n",
    "print(len(f), len(all_samples))\n",
    "\n",
    "print(all_samples[0:10])\n",
    "\n",
    "with open(\"dataset_grouped.json\", \"w\") as json_file:\n",
    "    json.dump(all_samples, json_file)"
   ]
  },
  {
   "cell_type": "code",
   "execution_count": null,
   "id": "f6703cf8-a3dd-4b6c-a1c4-7be61bd27aa8",
   "metadata": {},
   "outputs": [],
   "source": []
  }
 ],
 "metadata": {
  "kernelspec": {
   "display_name": "Python 3 (ipykernel)",
   "language": "python",
   "name": "python3"
  },
  "language_info": {
   "codemirror_mode": {
    "name": "ipython",
    "version": 3
   },
   "file_extension": ".py",
   "mimetype": "text/x-python",
   "name": "python",
   "nbconvert_exporter": "python",
   "pygments_lexer": "ipython3",
   "version": "3.12.3"
  }
 },
 "nbformat": 4,
 "nbformat_minor": 5
}
